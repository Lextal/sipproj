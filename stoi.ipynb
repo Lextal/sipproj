{
 "cells": [
  {
   "cell_type": "code",
   "execution_count": 8,
   "metadata": {
    "collapsed": true
   },
   "outputs": [],
   "source": [
    "from scipy.io import wavfile as WF\n",
    "\n",
    "import numpy as np\n",
    "\n",
    "from scipy.signal import * \n",
    "import matplotlib.pyplot as plt"
   ]
  },
  {
   "cell_type": "code",
   "execution_count": 17,
   "metadata": {
    "collapsed": false
   },
   "outputs": [
    {
     "name": "stdout",
     "output_type": "stream",
     "text": [
      "(15, 257)\n"
     ]
    },
    {
     "name": "stderr",
     "output_type": "stream",
     "text": [
      "/home/lextal/anaconda3/lib/python3.6/site-packages/ipykernel/__main__.py:3: VisibleDeprecationWarning: using a non-integer number instead of an integer will result in an error in the future\n",
      "  app.launch_new_instance()\n"
     ]
    }
   ],
   "source": [
    "def thirdoct(rate, k, n_bands, mn):\n",
    "    freqs = np.linspace(0, rate, k + 1)\n",
    "    freqs = freqs[0:(k/2 + 1)]\n",
    "    q = np.arange(n_bands)\n",
    "    cf = np.power(2, q/3.) * mn\n",
    "    fl = np.sqrt((np.power(2., q/3.) * mn) * (np.power(2., (q - 1.)/3.) * mn))\n",
    "    fr = np.sqrt((np.power(2., q/3.) * mn) * (np.power(2., (q + 1.)/3.) * mn))\n",
    "    A = np.zeros((n_bands, freqs.shape[0]))\n",
    "    print(A.shape)\n",
    "    #for i in range(cf.shape[0]):\n",
    "        \n",
    "                    \n",
    "thirdoct(16000, 512, 15, 150)"
   ]
  },
  {
   "cell_type": "code",
   "execution_count": 7,
   "metadata": {
    "collapsed": false
   },
   "outputs": [
    {
     "data": {
      "image/png": "[encoded data removed]",
      "text/plain": [
       "<matplotlib.figure.Figure at 0x7f79bf38fb38>"
      ]
     },
     "metadata": {},
     "output_type": "display_data"
    }
   ],
   "source": [
    "rate, data = WF.read('sound.wav')\n",
    "plt.plot(data)\n",
    "plt.title('rate = {}'.format(rate))\n",
    "plt.show()"
   ]
  },
  {
   "cell_type": "code",
   "execution_count": null,
   "metadata": {
    "collapsed": true
   },
   "outputs": [],
   "source": [
    "n_frame = 256 # window\n",
    "k = 512 # fft size\n",
    "n_bands = 15\n",
    "cf = 150 # center frequency of first 1/3 octave band in Hz\n",
    "H = thirdoct(rate, k, n_bands, cf) #1/3 octave band matrix"
   ]
  }
 ],
 "metadata": {
  "kernelspec": {
   "display_name": "Python 3",
   "language": "python",
   "name": "python3"
  },
  "language_info": {
   "codemirror_mode": {
    "name": "ipython",
    "version": 3
   },
   "file_extension": ".py",
   "mimetype": "text/x-python",
   "name": "python",
   "nbconvert_exporter": "python",
   "pygments_lexer": "ipython3",
   "version": "3.6.0"
  }
 },
 "nbformat": 4,
 "nbformat_minor": 2
}
